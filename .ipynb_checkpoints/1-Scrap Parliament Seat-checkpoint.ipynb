{
 "cells": [
  {
   "cell_type": "code",
   "execution_count": 1,
   "id": "2f8ef3a8-263c-4f18-83cd-a89b0d371af6",
   "metadata": {},
   "outputs": [],
   "source": [
    "import pandas as pd\n",
    "import os\n",
    "\n",
    "from bs4 import BeautifulSoup # this module helps in web scrapping.\n",
    "import requests  # this module helps us to download a web page"
   ]
  },
  {
   "cell_type": "code",
   "execution_count": 2,
   "id": "26e5a3bf-85b1-4ef3-85c4-1326769d963b",
   "metadata": {},
   "outputs": [],
   "source": [
    "url = \"https://en.wikipedia.org/wiki/List_of_Malaysian_electoral_districts\"\n",
    "os.makedirs(\"election_analysis\", exist_ok=True)"
   ]
  },
  {
   "cell_type": "code",
   "execution_count": 3,
   "id": "45a0f4eb-c377-4687-8a8e-12114da7ab28",
   "metadata": {},
   "outputs": [],
   "source": [
    "ge_data  = requests.get(url).text"
   ]
  },
  {
   "cell_type": "code",
   "execution_count": 4,
   "id": "aa5fc334-5c95-406b-ba8d-ecdc59c5d55e",
   "metadata": {},
   "outputs": [],
   "source": [
    "ge_data_soup = BeautifulSoup(ge_data,\"html.parser\")"
   ]
  },
  {
   "cell_type": "code",
   "execution_count": 5,
   "id": "c14687e6-f7b0-46b5-ae15-6ed4ea277673",
   "metadata": {},
   "outputs": [],
   "source": [
    "tables = ge_data_soup.find_all('table') # in html table is represented by the tag <table>"
   ]
  },
  {
   "cell_type": "code",
   "execution_count": 6,
   "id": "47d02620-41e5-4d1a-ae65-33b9a81e65b9",
   "metadata": {},
   "outputs": [],
   "source": [
    "# creates an empty list to store the target tables that contain the desired information\n",
    "target_tables = []\n",
    "\n",
    "for table in tables:\n",
    "    # checks if the text \"polling district\" is present in the table\n",
    "    if \"polling district\" in table.get_text().lower(): # method to retrieve the text content of the table and converts it to lowercase for case-insensitive comparison.\n",
    "        target_tables.append(table)\n",
    "\n",
    "# empty list to store the extracted data\n",
    "data = []\n",
    "\n",
    "for target_table in target_tables:\n",
    "    rows = target_table.find_all(\"tr\")\n",
    "\n",
    "    for row in rows[1:]:\n",
    "        cells = row.find_all(\"td\")\n",
    "        if cells:\n",
    "            federal_constituency_link = cells[0].find(\"a\")\n",
    "            if federal_constituency_link:\n",
    "                federal_constituency_name = federal_constituency_link.text.strip()\n",
    "                federal_constituency_url = \"https://en.wikipedia.org\" + federal_constituency_link[\"href\"]\n",
    "                parliament_code = cells[0].text.strip().split()[0].replace(\".\", \"\").lower()\n",
    "                # Exclude state constituency\n",
    "                if not parliament_code.startswith(\"n\"): \n",
    "                    data.append([federal_constituency_name, federal_constituency_url, parliament_code])\n",
    "\n",
    "df = pd.DataFrame(data, columns=[\"Federal Constituency\", \"URL\", \"Parliament Code\"])\n",
    "# modifies the parliament code using lambda function\n",
    "df[\"Parliament Code\"] = df[\"Parliament Code\"].apply(lambda x: x.replace(\".\", \"_\"))\n",
    "\n",
    "df.to_csv(\"election_analysis/electoral_district.csv\", index=False)"
   ]
  }
 ],
 "metadata": {
  "kernelspec": {
   "display_name": "Python 3 (ipykernel)",
   "language": "python",
   "name": "python3"
  },
  "language_info": {
   "codemirror_mode": {
    "name": "ipython",
    "version": 3
   },
   "file_extension": ".py",
   "mimetype": "text/x-python",
   "name": "python",
   "nbconvert_exporter": "python",
   "pygments_lexer": "ipython3",
   "version": "3.10.9"
  }
 },
 "nbformat": 4,
 "nbformat_minor": 5
}
